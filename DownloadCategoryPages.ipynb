{
 "cells": [
  {
   "cell_type": "code",
   "execution_count": 106,
   "metadata": {},
   "outputs": [],
   "source": [
    "import urllib2\n",
    "import json\n",
    "import pandas as pd"
   ]
  },
  {
   "cell_type": "code",
   "execution_count": 94,
   "metadata": {},
   "outputs": [],
   "source": [
    "basequery = 'http://harrypotter.wikia.com/api.php?action=query&format=json&cmlimit=500'\n",
    "\n",
    "def create_query(params):\n",
    "    return basequery+'&' + '&'.join(params)\n",
    "\n",
    "def create_subcategory_query(cmtitle):\n",
    "    return create_query(['list=categorymembers', 'cmtitle='+cmtitle, 'cmtype=subcat'])\n",
    "\n",
    "def create_page_query(cmtitle):\n",
    "    return create_query(['list=categorymembers', 'cmtitle='+cmtitle, 'cmtype=page'])"
   ]
  },
  {
   "cell_type": "code",
   "execution_count": 90,
   "metadata": {},
   "outputs": [],
   "source": [
    "def get_sub_categories(title):\n",
    "    try:\n",
    "        query = create_subcategory_query(title)\n",
    "        query = query.replace(' ', '%20')\n",
    "        response =  urllib2.urlopen(query)\n",
    "    except Exception as e:\n",
    "        print(e)\n",
    "        print(query)\n",
    "        return [title]\n",
    "    response_dict = json.loads(response.read())\n",
    "    if 'query' not in response_dict:\n",
    "        return [title]\n",
    "    return [title] + [c for d in response_dict['query']['categorymembers'] \\\n",
    "                      for c in get_sub_categories(d['title'])]"
   ]
  },
  {
   "cell_type": "code",
   "execution_count": 130,
   "metadata": {},
   "outputs": [],
   "source": [
    "houses = ['Category:Gryffindors', \n",
    "          'Category:Hufflepuffs', \n",
    "          'Category:Ravenclaws', \n",
    "          'Category:Slytherins', \n",
    "          'Category:Unknown_House']"
   ]
  },
  {
   "cell_type": "code",
   "execution_count": 131,
   "metadata": {
    "scrolled": false
   },
   "outputs": [
    {
     "name": "stdout",
     "output_type": "stream",
     "text": [
      "1\n",
      "2\n",
      "3\n",
      "4\n",
      "5\n"
     ]
    }
   ],
   "source": [
    "pages = []\n",
    "count = 0\n",
    "\n",
    "for house in houses:\n",
    "    cs = get_sub_categories(house)\n",
    "    for c in cs:\n",
    "        query = create_page_query(c)\n",
    "        query = query.replace(' ', '%20')\n",
    "        response =  urllib2.urlopen(query)\n",
    "\n",
    "        response_dict = json.loads(response.read())\n",
    "        for p in response_dict['query']['categorymembers']:\n",
    "            pages.append((p['pageid'], p['title'], house.split(':')[1]))\n",
    "\n",
    "        print(count)"
   ]
  },
  {
   "cell_type": "code",
   "execution_count": 132,
   "metadata": {},
   "outputs": [],
   "source": [
    "df = pd.DataFrame(np.transpose([[p[0] for p in pages], \n",
    "                   [p[1] for p in pages], \n",
    "                   [p[2] for p in pages]]), \n",
    "                  columns=['page_id', 'title', 'House'])"
   ]
  },
  {
   "cell_type": "code",
   "execution_count": 135,
   "metadata": {},
   "outputs": [
    {
     "data": {
      "text/html": [
       "<div>\n",
       "<style scoped>\n",
       "    .dataframe tbody tr th:only-of-type {\n",
       "        vertical-align: middle;\n",
       "    }\n",
       "\n",
       "    .dataframe tbody tr th {\n",
       "        vertical-align: top;\n",
       "    }\n",
       "\n",
       "    .dataframe thead th {\n",
       "        text-align: right;\n",
       "    }\n",
       "</style>\n",
       "<table border=\"1\" class=\"dataframe\">\n",
       "  <thead>\n",
       "    <tr style=\"text-align: right;\">\n",
       "      <th></th>\n",
       "      <th>page_id</th>\n",
       "      <th>title</th>\n",
       "      <th>House</th>\n",
       "    </tr>\n",
       "  </thead>\n",
       "  <tbody>\n",
       "    <tr>\n",
       "      <th>0</th>\n",
       "      <td>4982</td>\n",
       "      <td>Template:Gryffindor individual infobox</td>\n",
       "      <td>Gryffindors</td>\n",
       "    </tr>\n",
       "    <tr>\n",
       "      <th>1</th>\n",
       "      <td>33349</td>\n",
       "      <td>Astrix Alixan</td>\n",
       "      <td>Gryffindors</td>\n",
       "    </tr>\n",
       "    <tr>\n",
       "      <th>2</th>\n",
       "      <td>33353</td>\n",
       "      <td>Filemina Alchin</td>\n",
       "      <td>Gryffindors</td>\n",
       "    </tr>\n",
       "    <tr>\n",
       "      <th>3</th>\n",
       "      <td>7018</td>\n",
       "      <td>Euan Abercrombie</td>\n",
       "      <td>Gryffindors</td>\n",
       "    </tr>\n",
       "    <tr>\n",
       "      <th>4</th>\n",
       "      <td>99282</td>\n",
       "      <td>Sakura Akagi</td>\n",
       "      <td>Gryffindors</td>\n",
       "    </tr>\n",
       "  </tbody>\n",
       "</table>\n",
       "</div>"
      ],
      "text/plain": [
       "  page_id                                   title        House\n",
       "0    4982  Template:Gryffindor individual infobox  Gryffindors\n",
       "1   33349                           Astrix Alixan  Gryffindors\n",
       "2   33353                         Filemina Alchin  Gryffindors\n",
       "3    7018                        Euan Abercrombie  Gryffindors\n",
       "4   99282                            Sakura Akagi  Gryffindors"
      ]
     },
     "execution_count": 135,
     "metadata": {},
     "output_type": "execute_result"
    }
   ],
   "source": [
    "df.head()"
   ]
  },
  {
   "cell_type": "code",
   "execution_count": 134,
   "metadata": {},
   "outputs": [],
   "source": [
    "df.to_csv('character.csv')"
   ]
  }
 ],
 "metadata": {
  "kernelspec": {
   "display_name": "Python 2",
   "language": "python",
   "name": "python2"
  },
  "language_info": {
   "codemirror_mode": {
    "name": "ipython",
    "version": 2
   },
   "file_extension": ".py",
   "mimetype": "text/x-python",
   "name": "python",
   "nbconvert_exporter": "python",
   "pygments_lexer": "ipython2",
   "version": "2.7.15"
  }
 },
 "nbformat": 4,
 "nbformat_minor": 2
}
